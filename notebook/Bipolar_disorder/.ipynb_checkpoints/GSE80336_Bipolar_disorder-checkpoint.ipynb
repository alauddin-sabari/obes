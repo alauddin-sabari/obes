{
 "cells": [
  {
   "cell_type": "code",
   "execution_count": 17,
   "metadata": {},
   "outputs": [],
   "source": [
    "import pandas as pd \n",
    "import numpy as np\n",
    "\n",
    "#Import libraries\n",
    "from matplotlib_venn import venn2, venn2_circles\n",
    "from matplotlib_venn import venn3, venn3_circles\n",
    "from matplotlib import pyplot as plt\n",
    "\n",
    "pd.set_option('display.max_rows', None)\n",
    "pd.set_option('display.max_columns', None)\n",
    "pd.set_option('display.width', None)\n",
    "pd.set_option('display.max_colwidth', None)"
   ]
  },
  {
   "cell_type": "markdown",
   "metadata": {},
   "source": [
    "Dataset's link:<br>https://www.ncbi.nlm.nih.gov/geo/query/acc.cgi?acc=GSE58933"
   ]
  },
  {
   "cell_type": "code",
   "execution_count": 18,
   "metadata": {},
   "outputs": [],
   "source": [
    "d  = pd.read_csv('GSE80336_Bipolar_disorder_tissue_dorsal _triatum.csv')\n",
    "#d"
   ]
  },
  {
   "cell_type": "markdown",
   "metadata": {},
   "source": [
    "# Filtered Datataset"
   ]
  },
  {
   "cell_type": "code",
   "execution_count": 19,
   "metadata": {
    "scrolled": true
   },
   "outputs": [
    {
     "data": {
      "text/html": [
       "<div>\n",
       "<style scoped>\n",
       "    .dataframe tbody tr th:only-of-type {\n",
       "        vertical-align: middle;\n",
       "    }\n",
       "\n",
       "    .dataframe tbody tr th {\n",
       "        vertical-align: top;\n",
       "    }\n",
       "\n",
       "    .dataframe thead th {\n",
       "        text-align: right;\n",
       "    }\n",
       "</style>\n",
       "<table border=\"1\" class=\"dataframe\">\n",
       "  <thead>\n",
       "    <tr style=\"text-align: right;\">\n",
       "      <th></th>\n",
       "      <th>Gene_symbol</th>\n",
       "      <th>Log_FoldChange</th>\n",
       "      <th>FDR_adjusted_P.value</th>\n",
       "    </tr>\n",
       "  </thead>\n",
       "  <tbody>\n",
       "    <tr>\n",
       "      <th>0</th>\n",
       "      <td>MTRNR2L8</td>\n",
       "      <td>5.148</td>\n",
       "      <td>0.000020</td>\n",
       "    </tr>\n",
       "    <tr>\n",
       "      <th>1</th>\n",
       "      <td>S100A12</td>\n",
       "      <td>2.918</td>\n",
       "      <td>0.004500</td>\n",
       "    </tr>\n",
       "    <tr>\n",
       "      <th>2</th>\n",
       "      <td>SLC12A3</td>\n",
       "      <td>2.071</td>\n",
       "      <td>0.026438</td>\n",
       "    </tr>\n",
       "    <tr>\n",
       "      <th>3</th>\n",
       "      <td>FCGBP</td>\n",
       "      <td>1.889</td>\n",
       "      <td>0.026438</td>\n",
       "    </tr>\n",
       "    <tr>\n",
       "      <th>4</th>\n",
       "      <td>DGKK</td>\n",
       "      <td>-2.329</td>\n",
       "      <td>0.068860</td>\n",
       "    </tr>\n",
       "    <tr>\n",
       "      <th>5</th>\n",
       "      <td>SPAG5</td>\n",
       "      <td>0.792</td>\n",
       "      <td>0.068860</td>\n",
       "    </tr>\n",
       "    <tr>\n",
       "      <th>6</th>\n",
       "      <td>MIR29A</td>\n",
       "      <td>0.879</td>\n",
       "      <td>0.073368</td>\n",
       "    </tr>\n",
       "  </tbody>\n",
       "</table>\n",
       "</div>"
      ],
      "text/plain": [
       "  Gene_symbol  Log_FoldChange  FDR_adjusted_P.value\n",
       "0    MTRNR2L8           5.148              0.000020\n",
       "1     S100A12           2.918              0.004500\n",
       "2     SLC12A3           2.071              0.026438\n",
       "3       FCGBP           1.889              0.026438\n",
       "4        DGKK          -2.329              0.068860\n",
       "5       SPAG5           0.792              0.068860\n",
       "6      MIR29A           0.879              0.073368"
      ]
     },
     "execution_count": 19,
     "metadata": {},
     "output_type": "execute_result"
    }
   ],
   "source": [
    "d  = d[(abs(d['Log_FoldChange'])>0.5) & (d['FDR_adjusted_P.value'] <0.1)]\n",
    "d.dropna(subset = ['Gene_symbol'], inplace = True)\n",
    "d[['Gene_symbol','Log_FoldChange','FDR_adjusted_P.value']]"
   ]
  },
  {
   "cell_type": "markdown",
   "metadata": {},
   "source": [
    "# Up Regulated Genes"
   ]
  },
  {
   "cell_type": "code",
   "execution_count": 20,
   "metadata": {},
   "outputs": [
    {
     "name": "stdout",
     "output_type": "stream",
     "text": [
      "(6, 8)-->dataset's shape ||Amount of genes before removing duplication  6\n",
      "________________________________________________________________\n",
      "(6, 8)-->dataset's shape ||Amount of genes before removing duplication  6\n"
     ]
    },
    {
     "data": {
      "text/html": [
       "<div>\n",
       "<style scoped>\n",
       "    .dataframe tbody tr th:only-of-type {\n",
       "        vertical-align: middle;\n",
       "    }\n",
       "\n",
       "    .dataframe tbody tr th {\n",
       "        vertical-align: top;\n",
       "    }\n",
       "\n",
       "    .dataframe thead th {\n",
       "        text-align: right;\n",
       "    }\n",
       "</style>\n",
       "<table border=\"1\" class=\"dataframe\">\n",
       "  <thead>\n",
       "    <tr style=\"text-align: right;\">\n",
       "      <th></th>\n",
       "      <th>Gene_symbol</th>\n",
       "      <th>Log_FoldChange</th>\n",
       "      <th>FDR_adjusted_P.value</th>\n",
       "    </tr>\n",
       "  </thead>\n",
       "  <tbody>\n",
       "    <tr>\n",
       "      <th>0</th>\n",
       "      <td>MTRNR2L8</td>\n",
       "      <td>5.148</td>\n",
       "      <td>0.000020</td>\n",
       "    </tr>\n",
       "    <tr>\n",
       "      <th>1</th>\n",
       "      <td>S100A12</td>\n",
       "      <td>2.918</td>\n",
       "      <td>0.004500</td>\n",
       "    </tr>\n",
       "    <tr>\n",
       "      <th>2</th>\n",
       "      <td>SLC12A3</td>\n",
       "      <td>2.071</td>\n",
       "      <td>0.026438</td>\n",
       "    </tr>\n",
       "    <tr>\n",
       "      <th>3</th>\n",
       "      <td>FCGBP</td>\n",
       "      <td>1.889</td>\n",
       "      <td>0.026438</td>\n",
       "    </tr>\n",
       "    <tr>\n",
       "      <th>5</th>\n",
       "      <td>SPAG5</td>\n",
       "      <td>0.792</td>\n",
       "      <td>0.068860</td>\n",
       "    </tr>\n",
       "    <tr>\n",
       "      <th>6</th>\n",
       "      <td>MIR29A</td>\n",
       "      <td>0.879</td>\n",
       "      <td>0.073368</td>\n",
       "    </tr>\n",
       "  </tbody>\n",
       "</table>\n",
       "</div>"
      ],
      "text/plain": [
       "  Gene_symbol  Log_FoldChange  FDR_adjusted_P.value\n",
       "0    MTRNR2L8           5.148              0.000020\n",
       "1     S100A12           2.918              0.004500\n",
       "2     SLC12A3           2.071              0.026438\n",
       "3       FCGBP           1.889              0.026438\n",
       "5       SPAG5           0.792              0.068860\n",
       "6      MIR29A           0.879              0.073368"
      ]
     },
     "execution_count": 20,
     "metadata": {},
     "output_type": "execute_result"
    }
   ],
   "source": [
    "up = d[d['Log_FoldChange']>.5]\n",
    "print(f\"{up.shape}-->dataset's shape\",f'||Amount of genes before removing duplication  {up.shape[0]}')\n",
    "print('________________________________________________________________')\n",
    "up = up.drop_duplicates(subset='Gene_symbol')\n",
    "print(f\"{up.shape}-->dataset's shape\",f'||Amount of genes before removing duplication  {up.shape[0]}')\n",
    "\n",
    "up[['Gene_symbol', 'Log_FoldChange','FDR_adjusted_P.value']]\n"
   ]
  },
  {
   "cell_type": "markdown",
   "metadata": {},
   "source": [
    "# Down Regulated Genes"
   ]
  },
  {
   "cell_type": "code",
   "execution_count": 21,
   "metadata": {
    "scrolled": true
   },
   "outputs": [
    {
     "name": "stdout",
     "output_type": "stream",
     "text": [
      "dataset's shape(1, 8) ||Amount of genes before removing duplication  1\n",
      "________________________________________________________________\n",
      "dataset's shape(1, 8) ||Amount of genes after removing duplication   1\n"
     ]
    },
    {
     "data": {
      "text/html": [
       "<div>\n",
       "<style scoped>\n",
       "    .dataframe tbody tr th:only-of-type {\n",
       "        vertical-align: middle;\n",
       "    }\n",
       "\n",
       "    .dataframe tbody tr th {\n",
       "        vertical-align: top;\n",
       "    }\n",
       "\n",
       "    .dataframe thead th {\n",
       "        text-align: right;\n",
       "    }\n",
       "</style>\n",
       "<table border=\"1\" class=\"dataframe\">\n",
       "  <thead>\n",
       "    <tr style=\"text-align: right;\">\n",
       "      <th></th>\n",
       "      <th>Gene_symbol</th>\n",
       "      <th>Log_FoldChange</th>\n",
       "      <th>FDR_adjusted_P.value</th>\n",
       "    </tr>\n",
       "  </thead>\n",
       "  <tbody>\n",
       "    <tr>\n",
       "      <th>4</th>\n",
       "      <td>DGKK</td>\n",
       "      <td>-2.329</td>\n",
       "      <td>0.06886</td>\n",
       "    </tr>\n",
       "  </tbody>\n",
       "</table>\n",
       "</div>"
      ],
      "text/plain": [
       "  Gene_symbol  Log_FoldChange  FDR_adjusted_P.value\n",
       "4        DGKK          -2.329               0.06886"
      ]
     },
     "execution_count": 21,
     "metadata": {},
     "output_type": "execute_result"
    }
   ],
   "source": [
    "down = d[d['Log_FoldChange']<-.5] #condition for finding downreagulated genes\n",
    "\n",
    "print(f\"dataset's shape{down.shape}\",f'||Amount of genes before removing duplication  {down.shape[0]}')\n",
    "print('________________________________________________________________')\n",
    "down = down.drop_duplicates(subset='Gene_symbol') #removing duplicated genes\n",
    "print(f\"dataset's shape{down.shape}\",f'||Amount of genes after removing duplication   {down.shape[0]}')\n",
    "\n",
    "down[['Gene_symbol', 'Log_FoldChange','FDR_adjusted_P.value']]\n"
   ]
  },
  {
   "cell_type": "code",
   "execution_count": 22,
   "metadata": {},
   "outputs": [],
   "source": [
    "d  = pd.read_csv('GSE81396/GSE81396_BD_Braintissue_cuadate_nucleus_subtissue.csv')\n",
    "#d"
   ]
  }
 ],
 "metadata": {
  "kernelspec": {
   "display_name": "Python 3",
   "language": "python",
   "name": "python3"
  },
  "language_info": {
   "codemirror_mode": {
    "name": "ipython",
    "version": 3
   },
   "file_extension": ".py",
   "mimetype": "text/x-python",
   "name": "python",
   "nbconvert_exporter": "python",
   "pygments_lexer": "ipython3",
   "version": "3.8.5"
  }
 },
 "nbformat": 4,
 "nbformat_minor": 4
}
