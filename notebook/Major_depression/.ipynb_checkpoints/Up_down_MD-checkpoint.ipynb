{
 "cells": [
  {
   "cell_type": "code",
   "execution_count": 2,
   "metadata": {},
   "outputs": [],
   "source": [
    "import pandas as pd \n",
    "import numpy as np\n",
    "\n",
    "#Import libraries\n",
    "from matplotlib_venn import venn2, venn2_circles\n",
    "from matplotlib_venn import venn3, venn3_circles\n",
    "from matplotlib import pyplot as plt\n",
    "\n",
    "pd.set_option('display.max_rows', None)\n",
    "pd.set_option('display.max_columns', None)\n",
    "pd.set_option('display.width', None)\n",
    "pd.set_option('display.max_colwidth', None)"
   ]
  },
  {
   "cell_type": "markdown",
   "metadata": {},
   "source": [
    "Dataset's link:<br>https://www.ncbi.nlm.nih.gov/geo/query/acc.cgi?acc=GSE58933"
   ]
  },
  {
   "cell_type": "code",
   "execution_count": 49,
   "metadata": {},
   "outputs": [],
   "source": [
    "d  = pd.read_csv('GSE101521_major_depression_mdd_nonsuicides.csv')\n",
    "\n",
    "d = d[(abs(d['Log_FoldChange'])>1) & (d['PValue'] <0.05)].drop_duplicates(subset='Gene_symbol')\n",
    "#d.to_csv('Datasets/GSE101521_major_depression_mdd_nonsuicides.csv')\n",
    "\n",
    "GSE101521_up  = d[(d['Log_FoldChange']>1) & (d['PValue'] <0.05)]\n",
    "GSE101521_up  = GSE101521_up[['Gene_symbol','Log_FoldChange','PValue']].drop_duplicates(subset='Gene_symbol')\n",
    "GSE101521_down = d[(d['Log_FoldChange']<-1) & (d['PValue'] <0.05)]\n",
    "GSE101521_down  = GSE101521_down[['Gene_symbol','Log_FoldChange','PValue']].drop_duplicates(subset='Gene_symbol')"
   ]
  },
  {
   "cell_type": "code",
   "execution_count": 8,
   "metadata": {},
   "outputs": [
    {
     "data": {
      "text/plain": [
       "(265, 8)"
      ]
     },
     "execution_count": 8,
     "metadata": {},
     "output_type": "execute_result"
    }
   ],
   "source": [
    "d.shape"
   ]
  },
  {
   "cell_type": "code",
   "execution_count": 4,
   "metadata": {},
   "outputs": [
    {
     "data": {
      "text/plain": [
       "(58, 3)"
      ]
     },
     "execution_count": 4,
     "metadata": {},
     "output_type": "execute_result"
    }
   ],
   "source": [
    "GSE101521_up.shape"
   ]
  },
  {
   "cell_type": "code",
   "execution_count": 6,
   "metadata": {},
   "outputs": [
    {
     "data": {
      "text/plain": [
       "(207, 3)"
      ]
     },
     "execution_count": 6,
     "metadata": {},
     "output_type": "execute_result"
    }
   ],
   "source": [
    "GSE101521_down.shape"
   ]
  },
  {
   "cell_type": "code",
   "execution_count": 50,
   "metadata": {},
   "outputs": [],
   "source": [
    "d  = pd.read_csv('GSE101521_major_depression_mdd_suicides.csv')\n",
    "\n",
    "d = d[(abs(d['Log_FoldChange'])>1) & (d['PValue'] <0.05)].drop_duplicates(subset='Gene_symbol')\n",
    "#d.to_csv('Datasets/GSE101521_major_depression_mdd_suicides.csv')\n",
    "\n",
    "\n",
    "GSE101521a_up  = d[(d['Log_FoldChange']>1) & (d['PValue'] <0.05)]\n",
    "GSE101521a_up  = GSE101521a_up[['Gene_symbol','Log_FoldChange','PValue']].drop_duplicates(subset='Gene_symbol')\n",
    "GSE101521a_down  = d[(d['Log_FoldChange']<-1) & (d['PValue'] <0.05)]\n",
    "GSE101521a_down  = GSE101521a_down[['Gene_symbol','Log_FoldChange','PValue']].drop_duplicates(subset='Gene_symbol')"
   ]
  },
  {
   "cell_type": "code",
   "execution_count": 81,
   "metadata": {},
   "outputs": [
    {
     "data": {
      "text/plain": [
       "(41, 3)"
      ]
     },
     "execution_count": 81,
     "metadata": {},
     "output_type": "execute_result"
    }
   ],
   "source": [
    "GSE101521a_up.shape"
   ]
  },
  {
   "cell_type": "code",
   "execution_count": 39,
   "metadata": {},
   "outputs": [
    {
     "name": "stdout",
     "output_type": "stream",
     "text": [
      "p Value dhorre gene amount- (1205, 8)\n",
      "Logf & P dhorre gene amount- (183, 8)\n",
      "Up regulated amount- (40, 8)\n",
      "Down regulated amount- (143, 8)\n"
     ]
    }
   ],
   "source": [
    "\n",
    "d1  = d[d['PValue'] <0.05].drop_duplicates(subset='Gene_symbol')\n",
    "print('p Value dhorre gene amount-', d1.shape)\n",
    "\n",
    "\n",
    "d  = d[(abs(d['Log_FoldChange'])>1) & (d['PValue'] <0.05)].drop_duplicates(subset= 'Gene_symbol')\n",
    "print('Logf & P dhorre gene amount-', d.shape)\n",
    "\n",
    "\n",
    "up = d[d['Log_FoldChange']>1]\n",
    "print('Up regulated amount-', up.shape)\n",
    "\n",
    " \n",
    "down = d[d['Log_FoldChange']<-1]\n",
    "\n",
    "print('Down regulated amount-', down.shape)"
   ]
  },
  {
   "cell_type": "code",
   "execution_count": 17,
   "metadata": {},
   "outputs": [
    {
     "data": {
      "text/html": [
       "<div>\n",
       "<style scoped>\n",
       "    .dataframe tbody tr th:only-of-type {\n",
       "        vertical-align: middle;\n",
       "    }\n",
       "\n",
       "    .dataframe tbody tr th {\n",
       "        vertical-align: top;\n",
       "    }\n",
       "\n",
       "    .dataframe thead th {\n",
       "        text-align: right;\n",
       "    }\n",
       "</style>\n",
       "<table border=\"1\" class=\"dataframe\">\n",
       "  <thead>\n",
       "    <tr style=\"text-align: right;\">\n",
       "      <th></th>\n",
       "      <th>PValue</th>\n",
       "      <th>Log_FoldChange</th>\n",
       "      <th>Gene_symbol</th>\n",
       "    </tr>\n",
       "  </thead>\n",
       "  <tbody>\n",
       "    <tr>\n",
       "      <th>3346</th>\n",
       "      <td>0.04527</td>\n",
       "      <td>1.08</td>\n",
       "      <td>HLA-DQA1</td>\n",
       "    </tr>\n",
       "  </tbody>\n",
       "</table>\n",
       "</div>"
      ],
      "text/plain": [
       "       PValue  Log_FoldChange Gene_symbol\n",
       "3346  0.04527            1.08    HLA-DQA1"
      ]
     },
     "execution_count": 17,
     "metadata": {},
     "output_type": "execute_result"
    }
   ],
   "source": [
    "up"
   ]
  },
  {
   "cell_type": "code",
   "execution_count": 65,
   "metadata": {
    "scrolled": true
   },
   "outputs": [
    {
     "data": {
      "text/html": [
       "<div>\n",
       "<style scoped>\n",
       "    .dataframe tbody tr th:only-of-type {\n",
       "        vertical-align: middle;\n",
       "    }\n",
       "\n",
       "    .dataframe tbody tr th {\n",
       "        vertical-align: top;\n",
       "    }\n",
       "\n",
       "    .dataframe thead th {\n",
       "        text-align: right;\n",
       "    }\n",
       "</style>\n",
       "<table border=\"1\" class=\"dataframe\">\n",
       "  <thead>\n",
       "    <tr style=\"text-align: right;\">\n",
       "      <th></th>\n",
       "      <th>PValue</th>\n",
       "      <th>Log_FoldChange</th>\n",
       "      <th>Gene_symbol</th>\n",
       "    </tr>\n",
       "  </thead>\n",
       "  <tbody>\n",
       "    <tr>\n",
       "      <th>0</th>\n",
       "      <td>0.000001</td>\n",
       "      <td>0.437</td>\n",
       "      <td>NaN</td>\n",
       "    </tr>\n",
       "    <tr>\n",
       "      <th>1</th>\n",
       "      <td>0.000001</td>\n",
       "      <td>0.415</td>\n",
       "      <td>GZMK</td>\n",
       "    </tr>\n",
       "    <tr>\n",
       "      <th>2</th>\n",
       "      <td>0.000002</td>\n",
       "      <td>-0.252</td>\n",
       "      <td>RETN</td>\n",
       "    </tr>\n",
       "    <tr>\n",
       "      <th>3</th>\n",
       "      <td>0.000003</td>\n",
       "      <td>-0.256</td>\n",
       "      <td>MAFG</td>\n",
       "    </tr>\n",
       "    <tr>\n",
       "      <th>4</th>\n",
       "      <td>0.000003</td>\n",
       "      <td>-0.364</td>\n",
       "      <td>PFKFB2</td>\n",
       "    </tr>\n",
       "  </tbody>\n",
       "</table>\n",
       "</div>"
      ],
      "text/plain": [
       "     PValue  Log_FoldChange Gene_symbol\n",
       "0  0.000001           0.437         NaN\n",
       "1  0.000001           0.415        GZMK\n",
       "2  0.000002          -0.252        RETN\n",
       "3  0.000003          -0.256        MAFG\n",
       "4  0.000003          -0.364      PFKFB2"
      ]
     },
     "execution_count": 65,
     "metadata": {},
     "output_type": "execute_result"
    }
   ],
   "source": [
    "d2.rename(columns={'Gene.symbol':'Gene_symbol','P.Value':'PValue','logFC':'Log_FoldChange'},inplace=True)\n",
    "d2.drop(columns={\"ID\", \"adj.P.Val\",'t','B','Gene.title'},inplace=True)\n",
    "d2.head()"
   ]
  },
  {
   "cell_type": "code",
   "execution_count": 62,
   "metadata": {},
   "outputs": [],
   "source": []
  },
  {
   "cell_type": "code",
   "execution_count": 68,
   "metadata": {},
   "outputs": [
    {
     "data": {
      "text/html": [
       "<div>\n",
       "<style scoped>\n",
       "    .dataframe tbody tr th:only-of-type {\n",
       "        vertical-align: middle;\n",
       "    }\n",
       "\n",
       "    .dataframe tbody tr th {\n",
       "        vertical-align: top;\n",
       "    }\n",
       "\n",
       "    .dataframe thead th {\n",
       "        text-align: right;\n",
       "    }\n",
       "</style>\n",
       "<table border=\"1\" class=\"dataframe\">\n",
       "  <thead>\n",
       "    <tr style=\"text-align: right;\">\n",
       "      <th></th>\n",
       "      <th>Gene_symbol</th>\n",
       "      <th>Log_FoldChange</th>\n",
       "      <th>PValue</th>\n",
       "    </tr>\n",
       "  </thead>\n",
       "  <tbody>\n",
       "    <tr>\n",
       "      <th>0</th>\n",
       "      <td>NaN</td>\n",
       "      <td>0.437</td>\n",
       "      <td>0.000001</td>\n",
       "    </tr>\n",
       "    <tr>\n",
       "      <th>1</th>\n",
       "      <td>GZMK</td>\n",
       "      <td>0.415</td>\n",
       "      <td>0.000001</td>\n",
       "    </tr>\n",
       "    <tr>\n",
       "      <th>2</th>\n",
       "      <td>RETN</td>\n",
       "      <td>-0.252</td>\n",
       "      <td>0.000002</td>\n",
       "    </tr>\n",
       "    <tr>\n",
       "      <th>3</th>\n",
       "      <td>MAFG</td>\n",
       "      <td>-0.256</td>\n",
       "      <td>0.000003</td>\n",
       "    </tr>\n",
       "    <tr>\n",
       "      <th>4</th>\n",
       "      <td>PFKFB2</td>\n",
       "      <td>-0.364</td>\n",
       "      <td>0.000003</td>\n",
       "    </tr>\n",
       "  </tbody>\n",
       "</table>\n",
       "</div>"
      ],
      "text/plain": [
       "  Gene_symbol  Log_FoldChange    PValue\n",
       "0         NaN           0.437  0.000001\n",
       "1        GZMK           0.415  0.000001\n",
       "2        RETN          -0.252  0.000002\n",
       "3        MAFG          -0.256  0.000003\n",
       "4      PFKFB2          -0.364  0.000003"
      ]
     },
     "execution_count": 68,
     "metadata": {},
     "output_type": "execute_result"
    }
   ],
   "source": [
    "col = ['Gene_symbol','Log_FoldChange','PValue']\n",
    "d22 = d2.reindex(columns=col)\n",
    "d22.head()"
   ]
  },
  {
   "cell_type": "code",
   "execution_count": 69,
   "metadata": {},
   "outputs": [],
   "source": [
    "GSE98793_up   = d22[(d22['Log_FoldChange']>1) & (d22['PValue'] <0.05)]\n",
    "GSE98793_down = d22[(d22['Log_FoldChange']<-1) & (d22['PValue'] <0.05)]"
   ]
  },
  {
   "cell_type": "code",
   "execution_count": 72,
   "metadata": {},
   "outputs": [
    {
     "data": {
      "text/plain": [
       "(1, 3)"
      ]
     },
     "execution_count": 72,
     "metadata": {},
     "output_type": "execute_result"
    }
   ],
   "source": [
    "GSE98793_up.shape"
   ]
  },
  {
   "cell_type": "code",
   "execution_count": 73,
   "metadata": {},
   "outputs": [
    {
     "data": {
      "text/plain": [
       "(1, 3)"
      ]
     },
     "execution_count": 73,
     "metadata": {},
     "output_type": "execute_result"
    }
   ],
   "source": [
    "GSE98793_down.shape"
   ]
  },
  {
   "cell_type": "code",
   "execution_count": null,
   "metadata": {},
   "outputs": [],
   "source": []
  },
  {
   "cell_type": "markdown",
   "metadata": {},
   "source": [
    "# Micro Array Data"
   ]
  },
  {
   "cell_type": "code",
   "execution_count": 39,
   "metadata": {},
   "outputs": [
    {
     "data": {
      "text/plain": [
       "(21502, 4)"
      ]
     },
     "execution_count": 39,
     "metadata": {},
     "output_type": "execute_result"
    }
   ],
   "source": [
    "d = pd.read_csv('Micro_array/GSE98793_mi_array.csv')\n",
    "d.shape"
   ]
  },
  {
   "cell_type": "code",
   "execution_count": 40,
   "metadata": {},
   "outputs": [
    {
     "name": "stdout",
     "output_type": "stream",
     "text": [
      "p Value dhorre gene amount- (2572, 4)\n",
      "Logf & P dhorre gene amount- (13, 4)\n"
     ]
    }
   ],
   "source": [
    "\n",
    "d1  = d[d['PValue'] <0.05].drop_duplicates(subset='Gene_symbol')\n",
    "print('p Value dhorre gene amount-', d1.shape)\n",
    "\n",
    "\n",
    "d  = d[(abs(d['Log_FoldChange'])>0.5) & (d['PValue'] <0.05)].drop_duplicates(subset= 'Gene_symbol')\n",
    "print('Logf & P dhorre gene amount-', d.shape)\n",
    "\n"
   ]
  },
  {
   "cell_type": "code",
   "execution_count": 41,
   "metadata": {},
   "outputs": [
    {
     "name": "stdout",
     "output_type": "stream",
     "text": [
      "Up regulated amount- (0, 4)\n",
      "Down regulated amount- (1, 4)\n"
     ]
    }
   ],
   "source": [
    "\n",
    "up = d[d['Log_FoldChange']>1]\n",
    "print('Up regulated amount-', up.shape)\n",
    "\n",
    " \n",
    "down = d[d['Log_FoldChange']<-1]\n",
    "\n",
    "print('Down regulated amount-', down.shape)"
   ]
  },
  {
   "cell_type": "code",
   "execution_count": 42,
   "metadata": {},
   "outputs": [
    {
     "data": {
      "text/html": [
       "<div>\n",
       "<style scoped>\n",
       "    .dataframe tbody tr th:only-of-type {\n",
       "        vertical-align: middle;\n",
       "    }\n",
       "\n",
       "    .dataframe tbody tr th {\n",
       "        vertical-align: top;\n",
       "    }\n",
       "\n",
       "    .dataframe thead th {\n",
       "        text-align: right;\n",
       "    }\n",
       "</style>\n",
       "<table border=\"1\" class=\"dataframe\">\n",
       "  <thead>\n",
       "    <tr style=\"text-align: right;\">\n",
       "      <th></th>\n",
       "      <th>Gene_symbol</th>\n",
       "      <th>Log_FoldChange</th>\n",
       "      <th>PValue</th>\n",
       "    </tr>\n",
       "  </thead>\n",
       "  <tbody>\n",
       "    <tr>\n",
       "      <th>1</th>\n",
       "      <td>GZMK</td>\n",
       "      <td>0.415</td>\n",
       "      <td>0.000001</td>\n",
       "    </tr>\n",
       "    <tr>\n",
       "      <th>2</th>\n",
       "      <td>RETN</td>\n",
       "      <td>-0.252</td>\n",
       "      <td>0.000002</td>\n",
       "    </tr>\n",
       "    <tr>\n",
       "      <th>3</th>\n",
       "      <td>MAFG</td>\n",
       "      <td>-0.256</td>\n",
       "      <td>0.000003</td>\n",
       "    </tr>\n",
       "    <tr>\n",
       "      <th>4</th>\n",
       "      <td>PFKFB2</td>\n",
       "      <td>-0.364</td>\n",
       "      <td>0.000003</td>\n",
       "    </tr>\n",
       "    <tr>\n",
       "      <th>5</th>\n",
       "      <td>MMP8</td>\n",
       "      <td>-0.749</td>\n",
       "      <td>0.000007</td>\n",
       "    </tr>\n",
       "  </tbody>\n",
       "</table>\n",
       "</div>"
      ],
      "text/plain": [
       "  Gene_symbol  Log_FoldChange    PValue\n",
       "1        GZMK           0.415  0.000001\n",
       "2        RETN          -0.252  0.000002\n",
       "3        MAFG          -0.256  0.000003\n",
       "4      PFKFB2          -0.364  0.000003\n",
       "5        MMP8          -0.749  0.000007"
      ]
     },
     "execution_count": 42,
     "metadata": {},
     "output_type": "execute_result"
    }
   ],
   "source": [
    "col = ['Gene_symbol','Log_FoldChange','PValue']\n",
    "d22 = d2.reindex(columns=col)\n",
    "d22.head()"
   ]
  },
  {
   "cell_type": "code",
   "execution_count": 43,
   "metadata": {},
   "outputs": [],
   "source": [
    "GSE107214_up   = d22[(d22['Log_FoldChange']>1) & (d22['PValue'] <0.05)]\n",
    "GSE107214_down = d22[(d22['Log_FoldChange']<-1) & (d22['PValue'] <0.05)]"
   ]
  },
  {
   "cell_type": "markdown",
   "metadata": {},
   "source": [
    "# ~******************************************~"
   ]
  },
  {
   "cell_type": "markdown",
   "metadata": {},
   "source": [
    "# GSE87610"
   ]
  },
  {
   "cell_type": "code",
   "execution_count": 51,
   "metadata": {
    "scrolled": false
   },
   "outputs": [
    {
     "data": {
      "text/html": [
       "<div>\n",
       "<style scoped>\n",
       "    .dataframe tbody tr th:only-of-type {\n",
       "        vertical-align: middle;\n",
       "    }\n",
       "\n",
       "    .dataframe tbody tr th {\n",
       "        vertical-align: top;\n",
       "    }\n",
       "\n",
       "    .dataframe thead th {\n",
       "        text-align: right;\n",
       "    }\n",
       "</style>\n",
       "<table border=\"1\" class=\"dataframe\">\n",
       "  <thead>\n",
       "    <tr style=\"text-align: right;\">\n",
       "      <th></th>\n",
       "      <th>ID</th>\n",
       "      <th>adj.P.Val</th>\n",
       "      <th>P.Value</th>\n",
       "      <th>t</th>\n",
       "      <th>B</th>\n",
       "      <th>logFC</th>\n",
       "      <th>Gene.Symbol</th>\n",
       "      <th>GB_LIST</th>\n",
       "      <th>SPOT_ID</th>\n",
       "    </tr>\n",
       "  </thead>\n",
       "  <tbody>\n",
       "    <tr>\n",
       "      <th>0</th>\n",
       "      <td>11760679_at</td>\n",
       "      <td>0.158</td>\n",
       "      <td>0.000003</td>\n",
       "      <td>5.633310</td>\n",
       "      <td>3.0017</td>\n",
       "      <td>0.368164</td>\n",
       "      <td>TNFRSF10C</td>\n",
       "      <td>NM_003841</td>\n",
       "      <td>NaN</td>\n",
       "    </tr>\n",
       "    <tr>\n",
       "      <th>1</th>\n",
       "      <td>11727576_x_at</td>\n",
       "      <td>0.204</td>\n",
       "      <td>0.000010</td>\n",
       "      <td>-5.234774</td>\n",
       "      <td>2.2154</td>\n",
       "      <td>-1.061790</td>\n",
       "      <td>ALS2CR4</td>\n",
       "      <td>NM_001044385,NM_152388</td>\n",
       "      <td>NaN</td>\n",
       "    </tr>\n",
       "    <tr>\n",
       "      <th>2</th>\n",
       "      <td>11725650_s_at</td>\n",
       "      <td>0.204</td>\n",
       "      <td>0.000019</td>\n",
       "      <td>-5.022715</td>\n",
       "      <td>1.7913</td>\n",
       "      <td>-1.052275</td>\n",
       "      <td>DCAF5</td>\n",
       "      <td>NM_003861</td>\n",
       "      <td>NaN</td>\n",
       "    </tr>\n",
       "    <tr>\n",
       "      <th>3</th>\n",
       "      <td>11752529_a_at</td>\n",
       "      <td>0.204</td>\n",
       "      <td>0.000021</td>\n",
       "      <td>4.990021</td>\n",
       "      <td>1.7257</td>\n",
       "      <td>0.301854</td>\n",
       "      <td>C16orf71</td>\n",
       "      <td>NM_139170</td>\n",
       "      <td>NaN</td>\n",
       "    </tr>\n",
       "    <tr>\n",
       "      <th>4</th>\n",
       "      <td>11750163_a_at</td>\n",
       "      <td>0.204</td>\n",
       "      <td>0.000023</td>\n",
       "      <td>4.961723</td>\n",
       "      <td>1.6688</td>\n",
       "      <td>2.281045</td>\n",
       "      <td>NLRP2</td>\n",
       "      <td>NM_001174081,NM_001174082,NM_001174083,NM_017852</td>\n",
       "      <td>NaN</td>\n",
       "    </tr>\n",
       "  </tbody>\n",
       "</table>\n",
       "</div>"
      ],
      "text/plain": [
       "              ID  adj.P.Val   P.Value         t       B     logFC Gene.Symbol  \\\n",
       "0    11760679_at      0.158  0.000003  5.633310  3.0017  0.368164   TNFRSF10C   \n",
       "1  11727576_x_at      0.204  0.000010 -5.234774  2.2154 -1.061790     ALS2CR4   \n",
       "2  11725650_s_at      0.204  0.000019 -5.022715  1.7913 -1.052275       DCAF5   \n",
       "3  11752529_a_at      0.204  0.000021  4.990021  1.7257  0.301854    C16orf71   \n",
       "4  11750163_a_at      0.204  0.000023  4.961723  1.6688  2.281045       NLRP2   \n",
       "\n",
       "                                            GB_LIST SPOT_ID  \n",
       "0                                         NM_003841     NaN  \n",
       "1                            NM_001044385,NM_152388     NaN  \n",
       "2                                         NM_003861     NaN  \n",
       "3                                         NM_139170     NaN  \n",
       "4  NM_001174081,NM_001174082,NM_001174083,NM_017852     NaN  "
      ]
     },
     "execution_count": 51,
     "metadata": {},
     "output_type": "execute_result"
    }
   ],
   "source": [
    "d2  = pd.read_csv('Micro_array/GSE87610.tsv',sep='\\t', header=0)\n",
    "\n",
    "\n",
    "\n",
    "d2.head()"
   ]
  },
  {
   "cell_type": "code",
   "execution_count": 52,
   "metadata": {},
   "outputs": [
    {
     "data": {
      "text/html": [
       "<div>\n",
       "<style scoped>\n",
       "    .dataframe tbody tr th:only-of-type {\n",
       "        vertical-align: middle;\n",
       "    }\n",
       "\n",
       "    .dataframe tbody tr th {\n",
       "        vertical-align: top;\n",
       "    }\n",
       "\n",
       "    .dataframe thead th {\n",
       "        text-align: right;\n",
       "    }\n",
       "</style>\n",
       "<table border=\"1\" class=\"dataframe\">\n",
       "  <thead>\n",
       "    <tr style=\"text-align: right;\">\n",
       "      <th></th>\n",
       "      <th>PValue</th>\n",
       "      <th>Log_FoldChange</th>\n",
       "      <th>Gene_symbol</th>\n",
       "    </tr>\n",
       "  </thead>\n",
       "  <tbody>\n",
       "    <tr>\n",
       "      <th>0</th>\n",
       "      <td>0.000003</td>\n",
       "      <td>0.368164</td>\n",
       "      <td>TNFRSF10C</td>\n",
       "    </tr>\n",
       "    <tr>\n",
       "      <th>1</th>\n",
       "      <td>0.000010</td>\n",
       "      <td>-1.061790</td>\n",
       "      <td>ALS2CR4</td>\n",
       "    </tr>\n",
       "    <tr>\n",
       "      <th>2</th>\n",
       "      <td>0.000019</td>\n",
       "      <td>-1.052275</td>\n",
       "      <td>DCAF5</td>\n",
       "    </tr>\n",
       "    <tr>\n",
       "      <th>3</th>\n",
       "      <td>0.000021</td>\n",
       "      <td>0.301854</td>\n",
       "      <td>C16orf71</td>\n",
       "    </tr>\n",
       "    <tr>\n",
       "      <th>4</th>\n",
       "      <td>0.000023</td>\n",
       "      <td>2.281045</td>\n",
       "      <td>NLRP2</td>\n",
       "    </tr>\n",
       "  </tbody>\n",
       "</table>\n",
       "</div>"
      ],
      "text/plain": [
       "     PValue  Log_FoldChange Gene_symbol\n",
       "0  0.000003        0.368164   TNFRSF10C\n",
       "1  0.000010       -1.061790     ALS2CR4\n",
       "2  0.000019       -1.052275       DCAF5\n",
       "3  0.000021        0.301854    C16orf71\n",
       "4  0.000023        2.281045       NLRP2"
      ]
     },
     "execution_count": 52,
     "metadata": {},
     "output_type": "execute_result"
    }
   ],
   "source": [
    "d2.rename(columns={'P.Value':'PValue','logFC':'Log_FoldChange','Gene.Symbol':'Gene_symbol'},inplace=True)\n",
    "d2.drop(columns={\"ID\", \"adj.P.Val\",'t','B','GB_LIST','SPOT_ID'},inplace=True)\n",
    "d2[['Gene_symbol']] = d2.Gene_symbol.str.split('///').str[-1]\n",
    "d2.head()"
   ]
  },
  {
   "cell_type": "code",
   "execution_count": 53,
   "metadata": {},
   "outputs": [
    {
     "data": {
      "text/plain": [
       "(49386, 3)"
      ]
     },
     "execution_count": 53,
     "metadata": {},
     "output_type": "execute_result"
    }
   ],
   "source": [
    "d2.shape"
   ]
  },
  {
   "cell_type": "code",
   "execution_count": null,
   "metadata": {},
   "outputs": [],
   "source": []
  },
  {
   "cell_type": "code",
   "execution_count": 54,
   "metadata": {},
   "outputs": [
    {
     "data": {
      "text/plain": [
       "(49386, 3)"
      ]
     },
     "execution_count": 54,
     "metadata": {},
     "output_type": "execute_result"
    }
   ],
   "source": [
    "d2.shape"
   ]
  },
  {
   "cell_type": "code",
   "execution_count": 55,
   "metadata": {},
   "outputs": [
    {
     "data": {
      "text/plain": [
       "(19934, 3)"
      ]
     },
     "execution_count": 55,
     "metadata": {},
     "output_type": "execute_result"
    }
   ],
   "source": [
    "d2.drop_duplicates(subset='Gene_symbol', inplace=True)\n",
    "d2.dropna(inplace=True)\n",
    "d2.shape"
   ]
  },
  {
   "cell_type": "code",
   "execution_count": 56,
   "metadata": {},
   "outputs": [],
   "source": [
    "#d2.to_csv('Micro_array/GSE87610_mi_array.csv')"
   ]
  },
  {
   "cell_type": "code",
   "execution_count": 57,
   "metadata": {},
   "outputs": [
    {
     "data": {
      "text/plain": [
       "(19934, 4)"
      ]
     },
     "execution_count": 57,
     "metadata": {},
     "output_type": "execute_result"
    }
   ],
   "source": [
    "d = pd.read_csv('Micro_array/GSE87610_mi_array.csv')\n",
    "d.shape"
   ]
  },
  {
   "cell_type": "code",
   "execution_count": 59,
   "metadata": {},
   "outputs": [],
   "source": [
    "d = d[(abs(d['Log_FoldChange'])>1) & (d['PValue'] <0.05)].drop_duplicates(subset='Gene_symbol')\n",
    "d.to_csv('Datasets/GSE87610_mi_array.csv')\n"
   ]
  },
  {
   "cell_type": "code",
   "execution_count": 60,
   "metadata": {},
   "outputs": [
    {
     "data": {
      "text/plain": [
       "(266, 4)"
      ]
     },
     "execution_count": 60,
     "metadata": {},
     "output_type": "execute_result"
    }
   ],
   "source": [
    "d.shape"
   ]
  },
  {
   "cell_type": "code",
   "execution_count": 61,
   "metadata": {},
   "outputs": [
    {
     "name": "stdout",
     "output_type": "stream",
     "text": [
      "p Value dhorre gene amount- (266, 4)\n",
      "Logf & P dhorre gene amount- (266, 4)\n"
     ]
    }
   ],
   "source": [
    "\n",
    "d1  = d[d['PValue'] <0.05].drop_duplicates(subset='Gene_symbol')\n",
    "print('p Value dhorre gene amount-', d1.shape)\n",
    "\n",
    "\n",
    "d  = d[(abs(d['Log_FoldChange'])>1) & (d['PValue'] <0.05)].drop_duplicates(subset= 'Gene_symbol')\n",
    "print('Logf & P dhorre gene amount-', d.shape)\n",
    "\n"
   ]
  },
  {
   "cell_type": "code",
   "execution_count": 62,
   "metadata": {},
   "outputs": [
    {
     "name": "stdout",
     "output_type": "stream",
     "text": [
      "Up regulated amount- (59, 4)\n",
      "Down regulated amount- (207, 4)\n"
     ]
    }
   ],
   "source": [
    "\n",
    "GSE87610_up = d[d['Log_FoldChange']>1]\n",
    "print('Up regulated amount-', GSE87610_up.shape)\n",
    "\n",
    " \n",
    "GSE87610_down = d[d['Log_FoldChange']<-1]\n",
    "\n",
    "print('Down regulated amount-', GSE87610_down.shape)"
   ]
  },
  {
   "cell_type": "code",
   "execution_count": null,
   "metadata": {},
   "outputs": [],
   "source": []
  },
  {
   "cell_type": "code",
   "execution_count": null,
   "metadata": {},
   "outputs": [],
   "source": []
  },
  {
   "cell_type": "code",
   "execution_count": null,
   "metadata": {},
   "outputs": [],
   "source": []
  },
  {
   "cell_type": "code",
   "execution_count": null,
   "metadata": {},
   "outputs": [],
   "source": []
  },
  {
   "cell_type": "code",
   "execution_count": 30,
   "metadata": {},
   "outputs": [
    {
     "data": {
      "text/plain": [
       "(12991, 4)"
      ]
     },
     "execution_count": 30,
     "metadata": {},
     "output_type": "execute_result"
    }
   ],
   "source": [
    "d = pd.read_csv('Micro_array/GSE54575_mi_array.csv')\n",
    "d.shape"
   ]
  },
  {
   "cell_type": "code",
   "execution_count": 31,
   "metadata": {},
   "outputs": [
    {
     "name": "stdout",
     "output_type": "stream",
     "text": [
      "p Value dhorre gene amount- (1788, 4)\n",
      "Logf & P dhorre gene amount- (11, 4)\n"
     ]
    }
   ],
   "source": [
    "\n",
    "d1  = d[d['PValue'] <0.05].drop_duplicates(subset='Gene_symbol')\n",
    "print('p Value dhorre gene amount-', d1.shape)\n",
    "\n",
    "\n",
    "d  = d[(abs(d['Log_FoldChange'])>1) & (d['PValue'] <0.05)].drop_duplicates(subset= 'Gene_symbol')\n",
    "print('Logf & P dhorre gene amount-', d.shape)\n",
    "\n"
   ]
  },
  {
   "cell_type": "code",
   "execution_count": 32,
   "metadata": {},
   "outputs": [
    {
     "name": "stdout",
     "output_type": "stream",
     "text": [
      "Up regulated amount- (10, 4)\n",
      "Down regulated amount- (1, 4)\n"
     ]
    }
   ],
   "source": [
    "\n",
    "up = d[d['Log_FoldChange']>1]\n",
    "print('Up regulated amount-', up.shape)\n",
    "\n",
    " \n",
    "down = d[d['Log_FoldChange']<-1]\n",
    "\n",
    "print('Down regulated amount-', down.shape)"
   ]
  },
  {
   "cell_type": "code",
   "execution_count": null,
   "metadata": {},
   "outputs": [],
   "source": []
  },
  {
   "cell_type": "code",
   "execution_count": null,
   "metadata": {},
   "outputs": [],
   "source": []
  },
  {
   "cell_type": "markdown",
   "metadata": {},
   "source": [
    "# Concat Up"
   ]
  },
  {
   "cell_type": "code",
   "execution_count": 71,
   "metadata": {},
   "outputs": [],
   "source": [
    "dfup1 = pd.concat([GSE101521_up ,  GSE101521a_up,  GSE87610_up])"
   ]
  },
  {
   "cell_type": "code",
   "execution_count": 72,
   "metadata": {},
   "outputs": [
    {
     "data": {
      "text/plain": [
       "(157, 4)"
      ]
     },
     "execution_count": 72,
     "metadata": {},
     "output_type": "execute_result"
    }
   ],
   "source": [
    "dfup1.shape"
   ]
  },
  {
   "cell_type": "code",
   "execution_count": 73,
   "metadata": {},
   "outputs": [],
   "source": [
    "dfup1.drop_duplicates(subset=\"Gene_symbol\" , inplace=True)"
   ]
  },
  {
   "cell_type": "code",
   "execution_count": 74,
   "metadata": {},
   "outputs": [
    {
     "data": {
      "text/plain": [
       "(150, 4)"
      ]
     },
     "execution_count": 74,
     "metadata": {},
     "output_type": "execute_result"
    }
   ],
   "source": [
    "dfup1.shape"
   ]
  },
  {
   "cell_type": "code",
   "execution_count": 76,
   "metadata": {},
   "outputs": [],
   "source": [
    "dfup1.to_csv('appended_UP_Down_/up_appended_MD.csv')"
   ]
  },
  {
   "cell_type": "code",
   "execution_count": null,
   "metadata": {},
   "outputs": [],
   "source": []
  },
  {
   "cell_type": "code",
   "execution_count": null,
   "metadata": {},
   "outputs": [],
   "source": []
  },
  {
   "cell_type": "markdown",
   "metadata": {},
   "source": [
    "# Concat Down"
   ]
  },
  {
   "cell_type": "code",
   "execution_count": 63,
   "metadata": {},
   "outputs": [],
   "source": [
    "dfdown1 = pd.concat([GSE101521_down ,  GSE101521a_down ,  GSE87610_down])"
   ]
  },
  {
   "cell_type": "code",
   "execution_count": 64,
   "metadata": {},
   "outputs": [
    {
     "data": {
      "text/plain": [
       "(557, 4)"
      ]
     },
     "execution_count": 64,
     "metadata": {},
     "output_type": "execute_result"
    }
   ],
   "source": [
    "dfdown1.shape"
   ]
  },
  {
   "cell_type": "code",
   "execution_count": 65,
   "metadata": {},
   "outputs": [],
   "source": [
    "dfdown1.drop_duplicates(subset=\"Gene_symbol\" , inplace=True)"
   ]
  },
  {
   "cell_type": "code",
   "execution_count": 66,
   "metadata": {},
   "outputs": [
    {
     "data": {
      "text/plain": [
       "(513, 4)"
      ]
     },
     "execution_count": 66,
     "metadata": {},
     "output_type": "execute_result"
    }
   ],
   "source": [
    "dfdown1.shape"
   ]
  },
  {
   "cell_type": "code",
   "execution_count": 70,
   "metadata": {},
   "outputs": [],
   "source": [
    "dfdown1.to_csv('appended_UP_Down_/down_appended_MD.csv')"
   ]
  },
  {
   "cell_type": "code",
   "execution_count": null,
   "metadata": {},
   "outputs": [],
   "source": []
  }
 ],
 "metadata": {
  "kernelspec": {
   "display_name": "Python 3",
   "language": "python",
   "name": "python3"
  },
  "language_info": {
   "codemirror_mode": {
    "name": "ipython",
    "version": 3
   },
   "file_extension": ".py",
   "mimetype": "text/x-python",
   "name": "python",
   "nbconvert_exporter": "python",
   "pygments_lexer": "ipython3",
   "version": "3.8.5"
  }
 },
 "nbformat": 4,
 "nbformat_minor": 4
}
